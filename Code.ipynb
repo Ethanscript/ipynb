{
 "cells": [
  {
   "cell_type": "code",
   "execution_count": 14,
   "metadata": {},
   "outputs": [],
   "source": [
    "import requests\n",
    "import json\n",
    "import math\n",
    "import pandas as pd\n",
    "import csv"
   ]
  },
  {
   "cell_type": "code",
   "execution_count": 15,
   "metadata": {},
   "outputs": [],
   "source": [
    "def request_url_get(url):\n",
    "    \"\"\" 请求url方法get方法 \"\"\"\n",
    "    r = requests.get(url=url, timeout=30)\n",
    "    if r.status_code == 200:\n",
    "        return r.text\n",
    "    return None"
   ]
  },
  {
   "cell_type": "code",
   "execution_count": 16,
   "metadata": {},
   "outputs": [],
   "source": [
    "def parse_json(content_json):\n",
    "    \"\"\"  解析json函数 \"\"\"\n",
    "    result_json = json.loads(content_json)\n",
    "    return result_json\n",
    "\n",
    "def request_api(url):\n",
    "    \"\"\" 请求高德api 解析json \"\"\"\n",
    "    result = request_url_get(url)\n",
    "    result_json = parse_json(result)\n",
    "    return result_json"
   ]
  },
  {
   "cell_type": "code",
   "execution_count": 82,
   "metadata": {},
   "outputs": [
    {
     "data": {
      "text/html": [
       "<div>\n",
       "<style scoped>\n",
       "    .dataframe tbody tr th:only-of-type {\n",
       "        vertical-align: middle;\n",
       "    }\n",
       "\n",
       "    .dataframe tbody tr th {\n",
       "        vertical-align: top;\n",
       "    }\n",
       "\n",
       "    .dataframe thead th {\n",
       "        text-align: right;\n",
       "    }\n",
       "</style>\n",
       "<table border=\"1\" class=\"dataframe\">\n",
       "  <thead>\n",
       "    <tr style=\"text-align: right;\">\n",
       "      <th></th>\n",
       "      <th>Unnamed: 0</th>\n",
       "      <th>遗产名称</th>\n",
       "      <th>Unnamed: 2</th>\n",
       "    </tr>\n",
       "  </thead>\n",
       "  <tbody>\n",
       "    <tr>\n",
       "      <td>0</td>\n",
       "      <td>江苏</td>\n",
       "      <td>南京市</td>\n",
       "      <td>NaN</td>\n",
       "    </tr>\n",
       "    <tr>\n",
       "      <td>1</td>\n",
       "      <td>江苏</td>\n",
       "      <td>苏州市</td>\n",
       "      <td>NaN</td>\n",
       "    </tr>\n",
       "    <tr>\n",
       "      <td>2</td>\n",
       "      <td>江苏</td>\n",
       "      <td>扬州市</td>\n",
       "      <td>NaN</td>\n",
       "    </tr>\n",
       "    <tr>\n",
       "      <td>3</td>\n",
       "      <td>江苏</td>\n",
       "      <td>镇江市</td>\n",
       "      <td>NaN</td>\n",
       "    </tr>\n",
       "    <tr>\n",
       "      <td>4</td>\n",
       "      <td>江苏</td>\n",
       "      <td>常熟市</td>\n",
       "      <td>NaN</td>\n",
       "    </tr>\n",
       "    <tr>\n",
       "      <td>...</td>\n",
       "      <td>...</td>\n",
       "      <td>...</td>\n",
       "      <td>...</td>\n",
       "    </tr>\n",
       "    <tr>\n",
       "      <td>70</td>\n",
       "      <td>江苏</td>\n",
       "      <td>九里村</td>\n",
       "      <td>NaN</td>\n",
       "    </tr>\n",
       "    <tr>\n",
       "      <td>71</td>\n",
       "      <td>江苏</td>\n",
       "      <td>华山村</td>\n",
       "      <td>NaN</td>\n",
       "    </tr>\n",
       "    <tr>\n",
       "      <td>72</td>\n",
       "      <td>江苏</td>\n",
       "      <td>葛村</td>\n",
       "      <td>NaN</td>\n",
       "    </tr>\n",
       "    <tr>\n",
       "      <td>73</td>\n",
       "      <td>江苏</td>\n",
       "      <td>柳茹村</td>\n",
       "      <td>NaN</td>\n",
       "    </tr>\n",
       "    <tr>\n",
       "      <td>74</td>\n",
       "      <td>江苏</td>\n",
       "      <td>儒里村</td>\n",
       "      <td>NaN</td>\n",
       "    </tr>\n",
       "  </tbody>\n",
       "</table>\n",
       "<p>75 rows × 3 columns</p>\n",
       "</div>"
      ],
      "text/plain": [
       "   Unnamed: 0 遗产名称  Unnamed: 2\n",
       "0          江苏  南京市         NaN\n",
       "1          江苏  苏州市         NaN\n",
       "2          江苏  扬州市         NaN\n",
       "3          江苏  镇江市         NaN\n",
       "4          江苏  常熟市         NaN\n",
       "..        ...  ...         ...\n",
       "70         江苏  九里村         NaN\n",
       "71         江苏  华山村         NaN\n",
       "72         江苏   葛村         NaN\n",
       "73         江苏  柳茹村         NaN\n",
       "74         江苏  儒里村         NaN\n",
       "\n",
       "[75 rows x 3 columns]"
      ]
     },
     "execution_count": 82,
     "metadata": {},
     "output_type": "execute_result"
    }
   ],
   "source": [
    "#a = pd.read_csv('文件名')\n",
    "a = pd.read_csv('xxxxx')\n",
    "a\n"
   ]
  },
  {
   "cell_type": "code",
   "execution_count": 62,
   "metadata": {},
   "outputs": [],
   "source": [
    "def run(name, city = ''):\n",
    "    \"\"\" 运行函数 \"\"\"\n",
    "    keywords = name\n",
    "    city = city\n",
    "    key = \"cd44222809f56254c39dff37bb6057e1\"\n",
    "    offset = 1\n",
    "\n",
    "    index_url = f'https://restapi.amap.com/v3/place/text?keywords={keywords}&city=&' \\\n",
    "        f'offset=&page=1&key={key}&extensions=base'\n",
    "    index_result = request_api(index_url)\n",
    "    \n",
    "    pages = math.ceil(int(index_result['count']) / offset)  # 算出一共需要的总页数\n",
    "    \n",
    "    temp = []\n",
    "    for page in range(1, min(pages + 1, 4)):\n",
    "        url = f'https://restapi.amap.com/v3/place/text?keywords={keywords}&city={city}&' \\\n",
    "            f'offset={offset}&page={page}&key={key}&extensions=base'\n",
    "        result = request_api(url)\n",
    "        pois = result['pois']\n",
    "        address = pois[0]['address'] if pois else \"\"\n",
    "        location = pois[0]['location'] if pois else \"\"\n",
    "        pname = pois[0]['pname'] if pois else \"\"\n",
    "        cname = pois[0]['cityname'] if pois else \"\"\n",
    "        #print([keywords, pname, cname, address, location])\n",
    "        temp.append([pname, cname, address, location])\n",
    "        #temp.append([keywords, address, location])\n",
    "    return temp\n",
    "        "
   ]
  },
  {
   "cell_type": "code",
   "execution_count": 83,
   "metadata": {},
   "outputs": [],
   "source": [
    "out = open('result.csv', 'a', newline = '')\n",
    "csv_write = csv.writer(out, dialect = 'excel')\n",
    "for i in range(len(a)):\n",
    "    row = a.iloc[i]\n",
    "    # name = row['遗产名称的列名']\n",
    "    name = row['遗产名称']\n",
    "    # city = row['省的列名']\n",
    "    city = row['Unnamed: 0']\n",
    "    temp = run(name, city)\n",
    "    for item in temp:\n",
    "        r = [city] + [name] + item\n",
    "        csv_write.writerow(r)\n",
    "out.close()"
   ]
  },
  {
   "cell_type": "code",
   "execution_count": null,
   "metadata": {},
   "outputs": [],
   "source": []
  },
  {
   "cell_type": "code",
   "execution_count": 190,
   "metadata": {},
   "outputs": [
    {
     "data": {
      "text/plain": [
       "460"
      ]
     },
     "execution_count": 190,
     "metadata": {},
     "output_type": "execute_result"
    }
   ],
   "source": []
  },
  {
   "cell_type": "code",
   "execution_count": null,
   "metadata": {},
   "outputs": [],
   "source": []
  }
 ],
 "metadata": {
  "kernelspec": {
   "display_name": "Python 3",
   "language": "python",
   "name": "python3"
  },
  "language_info": {
   "codemirror_mode": {
    "name": "ipython",
    "version": 3
   },
   "file_extension": ".py",
   "mimetype": "text/x-python",
   "name": "python",
   "nbconvert_exporter": "python",
   "pygments_lexer": "ipython3",
   "version": "3.7.4"
  }
 },
 "nbformat": 4,
 "nbformat_minor": 2
}
